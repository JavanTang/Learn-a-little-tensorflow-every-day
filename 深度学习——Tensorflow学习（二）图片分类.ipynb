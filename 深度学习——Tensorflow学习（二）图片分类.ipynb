{
  "nbformat": 4,
  "nbformat_minor": 0,
  "metadata": {
    "colab": {
      "name": "深度学习——Tensorflow学习（二）图片分类.ipynb",
      "version": "0.3.2",
      "provenance": [],
      "collapsed_sections": [],
      "include_colab_link": true
    },
    "kernelspec": {
      "name": "python3",
      "display_name": "Python 3"
    }
  },
  "cells": [
    {
      "cell_type": "markdown",
      "metadata": {
        "id": "view-in-github",
        "colab_type": "text"
      },
      "source": [
        "<a href=\"https://colab.research.google.com/github/JavanTang/Learn-a-little-tensorflow-every-day/blob/master/%E6%B7%B1%E5%BA%A6%E5%AD%A6%E4%B9%A0%E2%80%94%E2%80%94Tensorflow%E5%AD%A6%E4%B9%A0%EF%BC%88%E4%BA%8C%EF%BC%89%E5%9B%BE%E7%89%87%E5%88%86%E7%B1%BB.ipynb\" target=\"_parent\"><img src=\"https://colab.research.google.com/assets/colab-badge.svg\" alt=\"Open In Colab\"/></a>"
      ]
    },
    {
      "metadata": {
        "id": "VZuyQ2oaMZ4G",
        "colab_type": "text"
      },
      "cell_type": "markdown",
      "source": [
        "在开始之前多说一句，本系列的教程均以Tensorflow官方为主，主要是考虑到有些同学英语不好的基础，而且Tensorflow官方的教材也较为简单，对很多基础性的问题没有涉及到，当然作者我也是一个半桶水，我想把我在学习过程中遇到的一些问题进行汇总，总的来说我觉得也可以理解这个学习教材可以称为笔记，之后在每一章我都会将Tensorflow官方教材的地址贴出来。\n",
        "\n",
        "**今天要上代码了，直接实战出效果**\n",
        "\n",
        "## 图片分类\n",
        "\n",
        "看下图，我们的第一个问题就是要将下面的图片进行一一分类，里面有一些裙子，鞋子什么的，衬衫什么的，我们现在要利用上一章学习的神经网络去解决这个问题，其实在神经网络还没有出来之前也都是用很多传统算法做这类工作，但是讲真比较麻烦，他们可能通过图片块的颜色反差的值来形成一个矩阵，然后将这些矩阵用统计学习的方法去做研究，打个比方就是下面图基本上占白色多的可能就是衣服（这里讲得比较通俗一点，没有参考文献），那现在我们有了Tensorflow类似的深度学习网络框架我们该怎么做勒，可能不到一百行。\n",
        "![](https://tensorflow.org/images/fashion-mnist-sprite.png)\n",
        "\n",
        "\n",
        "## 官方示例代码"
      ]
    },
    {
      "metadata": {
        "id": "84ncYDd7uFvz",
        "colab_type": "code",
        "outputId": "ad0cffbe-9734-4366-e52f-c3ff2f38d8de",
        "colab": {
          "base_uri": "https://localhost:8080/",
          "height": 34
        }
      },
      "cell_type": "code",
      "source": [
        "import tensorflow as tf\n",
        "from tensorflow import keras\n",
        "\n",
        "import numpy as np\n",
        "import matplotlib.pyplot as plt\n",
        "\n",
        "print(tf.__version__)"
      ],
      "execution_count": 0,
      "outputs": [
        {
          "output_type": "stream",
          "text": [
            "1.13.1\n"
          ],
          "name": "stdout"
        }
      ]
    },
    {
      "metadata": {
        "id": "2JV9GsszuU0V",
        "colab_type": "code",
        "colab": {}
      },
      "cell_type": "code",
      "source": [
        "# 数据直接放在keras.datasets.fashion_mnist中\n",
        "fashion_dataset = keras.datasets.fashion_mnist\n",
        "# load_data 返回了四个Number数组\n",
        "(train_images, train_labels), (test_images, test_labels) = fashion_dataset.load_data()"
      ],
      "execution_count": 0,
      "outputs": []
    },
    {
      "metadata": {
        "id": "t0WIN5NCu6FC",
        "colab_type": "code",
        "colab": {}
      },
      "cell_type": "code",
      "source": [
        "# 上方train_label 与 test_labels 数组中存放的是index,比如为0就是上衣T恤，1就是裤子以此类推。\n",
        "class_names = ['上衣/T恤', '裤子', '套衫',\n",
        "               '裙子', '外套', '凉鞋', '衬衫', '运动鞋', '包包', '踝靴']"
      ],
      "execution_count": 0,
      "outputs": []
    },
    {
      "metadata": {
        "id": "1GDWCJnQwX5p",
        "colab_type": "code",
        "outputId": "d426e9c7-880d-416f-aabd-34213269d372",
        "colab": {
          "base_uri": "https://localhost:8080/",
          "height": 34
        }
      },
      "cell_type": "code",
      "source": [
        "# 这个命令是输出它矩阵的形状，例如 3*3*3 的矩阵，5*5的矩阵。\n",
        "print(train_images.shape)\n",
        "# 这个输出的结果是60000*28*28的矩阵，有60000个样本，每一个样本是28*28，我们可以看上方的图片\n",
        "# ，每个图片是由28*28个像素组成的，给神经网络的数据我们都是喂给它吃数值型的。"
      ],
      "execution_count": 0,
      "outputs": [
        {
          "output_type": "stream",
          "text": [
            "(60000, 28, 28)\n"
          ],
          "name": "stdout"
        }
      ]
    },
    {
      "metadata": {
        "id": "WZIf62eRypUC",
        "colab_type": "code",
        "outputId": "91e667b8-640d-4a9f-b329-f1c8f5f2b86f",
        "colab": {
          "base_uri": "https://localhost:8080/",
          "height": 2481
        }
      },
      "cell_type": "code",
      "source": [
        "# 我们查看一下里面的像素点，这里的像素点都是0-255直接\n",
        "print(train_images[10])"
      ],
      "execution_count": 74,
      "outputs": [
        {
          "output_type": "stream",
          "text": [
            "[[0.         0.         0.         0.         0.         0.\n",
            "  0.         0.04313725 0.55686275 0.78431373 0.41568627 0.\n",
            "  0.         0.         0.         0.         0.         0.\n",
            "  0.33333333 0.7254902  0.43921569 0.         0.         0.\n",
            "  0.         0.         0.         0.        ]\n",
            " [0.         0.         0.         0.         0.         0.\n",
            "  0.59607843 0.83921569 0.85098039 0.76078431 0.9254902  0.84705882\n",
            "  0.73333333 0.58431373 0.52941176 0.6        0.82745098 0.85098039\n",
            "  0.90588235 0.80392157 0.85098039 0.7372549  0.13333333 0.\n",
            "  0.         0.         0.         0.        ]\n",
            " [0.         0.         0.         0.         0.         0.25882353\n",
            "  0.7254902  0.65098039 0.70588235 0.70980392 0.74509804 0.82745098\n",
            "  0.86666667 0.77254902 0.57254902 0.77647059 0.80784314 0.74901961\n",
            "  0.65882353 0.74509804 0.6745098  0.7372549  0.68627451 0.\n",
            "  0.         0.         0.         0.        ]\n",
            " [0.         0.         0.         0.         0.         0.52941176\n",
            "  0.6        0.62745098 0.68627451 0.70588235 0.66666667 0.72941176\n",
            "  0.73333333 0.74509804 0.7372549  0.74509804 0.73333333 0.68235294\n",
            "  0.76470588 0.7254902  0.68235294 0.63137255 0.68627451 0.23137255\n",
            "  0.         0.         0.         0.        ]\n",
            " [0.         0.         0.         0.         0.         0.63137255\n",
            "  0.57647059 0.62745098 0.66666667 0.69803922 0.69411765 0.70588235\n",
            "  0.65882353 0.67843137 0.68235294 0.67058824 0.7254902  0.72156863\n",
            "  0.7254902  0.6745098  0.67058824 0.64313725 0.68235294 0.47058824\n",
            "  0.         0.         0.         0.        ]\n",
            " [0.         0.         0.         0.         0.00784314 0.68627451\n",
            "  0.57254902 0.56862745 0.65882353 0.69803922 0.70980392 0.7254902\n",
            "  0.70588235 0.72156863 0.69803922 0.70196078 0.73333333 0.74901961\n",
            "  0.75686275 0.74509804 0.70980392 0.67058824 0.6745098  0.61960784\n",
            "  0.         0.         0.         0.        ]\n",
            " [0.         0.         0.         0.         0.1372549  0.69411765\n",
            "  0.60784314 0.54901961 0.59215686 0.6745098  0.74901961 0.73333333\n",
            "  0.72941176 0.73333333 0.72941176 0.73333333 0.71372549 0.74901961\n",
            "  0.76078431 0.7372549  0.70588235 0.63137255 0.63137255 0.7254902\n",
            "  0.         0.         0.         0.        ]\n",
            " [0.         0.         0.         0.         0.23137255 0.66666667\n",
            "  0.6        0.55294118 0.47058824 0.60392157 0.62745098 0.63137255\n",
            "  0.6745098  0.65882353 0.65098039 0.63137255 0.64705882 0.6745098\n",
            "  0.66666667 0.64313725 0.54509804 0.58431373 0.63529412 0.65098039\n",
            "  0.08235294 0.         0.         0.        ]\n",
            " [0.         0.         0.         0.         0.30980392 0.56862745\n",
            "  0.62745098 0.83921569 0.48235294 0.50196078 0.6        0.62745098\n",
            "  0.64313725 0.61960784 0.61568627 0.60392157 0.60784314 0.66666667\n",
            "  0.64705882 0.55294118 0.76470588 0.75686275 0.59607843 0.65098039\n",
            "  0.23921569 0.         0.         0.        ]\n",
            " [0.         0.         0.         0.         0.39215686 0.61568627\n",
            "  0.88235294 0.96078431 0.68627451 0.44313725 0.68235294 0.61960784\n",
            "  0.61960784 0.62745098 0.60784314 0.62745098 0.64313725 0.69803922\n",
            "  0.7372549  0.52941176 0.7254902  0.94117647 0.78823529 0.6745098\n",
            "  0.42352941 0.         0.         0.        ]\n",
            " [0.         0.         0.         0.         0.         0.12156863\n",
            "  0.68235294 0.10980392 0.49411765 0.6        0.65098039 0.59607843\n",
            "  0.61960784 0.61960784 0.62745098 0.63137255 0.61568627 0.65882353\n",
            "  0.74901961 0.7372549  0.07058824 0.51764706 0.62352941 0.02745098\n",
            "  0.         0.         0.         0.        ]\n",
            " [0.         0.         0.         0.         0.         0.\n",
            "  0.         0.         0.32156863 0.73333333 0.62352941 0.6\n",
            "  0.61568627 0.61960784 0.63529412 0.64313725 0.64313725 0.60392157\n",
            "  0.73333333 0.74509804 0.         0.         0.         0.\n",
            "  0.         0.         0.         0.        ]\n",
            " [0.         0.         0.         0.         0.00392157 0.01176471\n",
            "  0.01960784 0.         0.14509804 0.68627451 0.61960784 0.60784314\n",
            "  0.63529412 0.61960784 0.62745098 0.63529412 0.64705882 0.6\n",
            "  0.69411765 0.80392157 0.         0.         0.01176471 0.01176471\n",
            "  0.         0.         0.         0.        ]\n",
            " [0.         0.         0.         0.         0.         0.\n",
            "  0.00392157 0.         0.09803922 0.68627451 0.59607843 0.62745098\n",
            "  0.61960784 0.63137255 0.62745098 0.64313725 0.64313725 0.63137255\n",
            "  0.65098039 0.78431373 0.         0.         0.00392157 0.\n",
            "  0.         0.         0.         0.        ]\n",
            " [0.         0.         0.         0.         0.         0.\n",
            "  0.01568627 0.         0.11764706 0.67058824 0.57647059 0.64313725\n",
            "  0.60784314 0.64705882 0.63137255 0.64705882 0.63529412 0.66666667\n",
            "  0.64313725 0.63529412 0.         0.         0.00784314 0.\n",
            "  0.         0.         0.         0.        ]\n",
            " [0.         0.         0.         0.         0.         0.\n",
            "  0.01568627 0.         0.22352941 0.65098039 0.60784314 0.64313725\n",
            "  0.65098039 0.63137255 0.63137255 0.64313725 0.65490196 0.64705882\n",
            "  0.64705882 0.63529412 0.10980392 0.         0.01176471 0.\n",
            "  0.         0.         0.         0.        ]\n",
            " [0.         0.         0.         0.         0.         0.\n",
            "  0.01176471 0.         0.44705882 0.63137255 0.63137255 0.65098039\n",
            "  0.62352941 0.65882353 0.63137255 0.63137255 0.6745098  0.63529412\n",
            "  0.64705882 0.67058824 0.19607843 0.         0.01960784 0.\n",
            "  0.         0.         0.         0.        ]\n",
            " [0.         0.         0.         0.         0.         0.\n",
            "  0.00392157 0.         0.58431373 0.61568627 0.65490196 0.6745098\n",
            "  0.62352941 0.6745098  0.64313725 0.63137255 0.6745098  0.66666667\n",
            "  0.62745098 0.67058824 0.34901961 0.         0.01568627 0.\n",
            "  0.         0.         0.         0.        ]\n",
            " [0.         0.         0.         0.         0.         0.00784314\n",
            "  0.         0.01568627 0.67058824 0.64313725 0.65098039 0.67843137\n",
            "  0.62352941 0.70196078 0.65098039 0.62745098 0.68235294 0.65490196\n",
            "  0.63529412 0.65098039 0.50196078 0.         0.00784314 0.\n",
            "  0.         0.         0.         0.        ]\n",
            " [0.         0.         0.         0.         0.         0.01176471\n",
            "  0.         0.07058824 0.59607843 0.67843137 0.62745098 0.70196078\n",
            "  0.60392157 0.70980392 0.65098039 0.64313725 0.68627451 0.66666667\n",
            "  0.65098039 0.66666667 0.64313725 0.         0.         0.00392157\n",
            "  0.         0.         0.         0.        ]\n",
            " [0.         0.         0.         0.         0.         0.01568627\n",
            "  0.         0.18431373 0.64705882 0.6745098  0.65490196 0.7254902\n",
            "  0.6        0.73333333 0.67843137 0.64705882 0.68235294 0.70196078\n",
            "  0.65098039 0.65098039 0.61960784 0.01960784 0.         0.01176471\n",
            "  0.         0.         0.         0.        ]\n",
            " [0.         0.         0.         0.         0.         0.01568627\n",
            "  0.         0.34117647 0.70588235 0.63529412 0.70196078 0.70196078\n",
            "  0.61568627 0.74901961 0.71372549 0.64705882 0.65882353 0.74509804\n",
            "  0.67843137 0.64705882 0.65098039 0.07843137 0.         0.01568627\n",
            "  0.         0.         0.         0.        ]\n",
            " [0.         0.         0.         0.         0.         0.01568627\n",
            "  0.         0.41176471 0.73333333 0.61568627 0.76078431 0.68627451\n",
            "  0.63137255 0.74509804 0.72156863 0.66666667 0.61960784 0.80392157\n",
            "  0.69411765 0.65882353 0.67058824 0.17254902 0.         0.01568627\n",
            "  0.         0.         0.         0.        ]\n",
            " [0.         0.         0.         0.         0.         0.01960784\n",
            "  0.         0.54117647 0.70980392 0.61960784 0.80392157 0.62745098\n",
            "  0.65490196 0.74509804 0.77647059 0.65490196 0.59607843 0.85490196\n",
            "  0.72941176 0.66666667 0.6745098  0.22352941 0.         0.01960784\n",
            "  0.         0.         0.         0.        ]\n",
            " [0.         0.         0.         0.         0.         0.01960784\n",
            "  0.         0.52941176 0.68235294 0.65490196 0.78039216 0.60784314\n",
            "  0.65098039 0.78823529 0.85882353 0.64705882 0.61960784 0.85490196\n",
            "  0.7372549  0.65490196 0.68627451 0.21960784 0.         0.02745098\n",
            "  0.         0.         0.         0.        ]\n",
            " [0.         0.         0.         0.         0.         0.01960784\n",
            "  0.         0.50588235 0.67058824 0.6745098  0.69411765 0.6\n",
            "  0.62352941 0.80784314 0.84705882 0.58039216 0.61568627 0.80784314\n",
            "  0.74509804 0.64705882 0.68627451 0.18823529 0.         0.01960784\n",
            "  0.         0.         0.         0.        ]\n",
            " [0.         0.         0.         0.         0.         0.01960784\n",
            "  0.         0.65490196 0.73333333 0.71372549 0.77647059 0.76078431\n",
            "  0.78431373 0.88627451 0.94117647 0.72156863 0.80784314 1.\n",
            "  0.77254902 0.69803922 0.70196078 0.16470588 0.         0.01960784\n",
            "  0.         0.         0.         0.        ]\n",
            " [0.         0.         0.         0.         0.         0.01176471\n",
            "  0.         0.45098039 0.52941176 0.44313725 0.41568627 0.33333333\n",
            "  0.32156863 0.42352941 0.52156863 0.3254902  0.35294118 0.4745098\n",
            "  0.47058824 0.43137255 0.61960784 0.07058824 0.         0.01176471\n",
            "  0.         0.         0.         0.        ]]\n"
          ],
          "name": "stdout"
        }
      ]
    },
    {
      "metadata": {
        "id": "5L3IVMJjwf7E",
        "colab_type": "code",
        "outputId": "dbadbb4a-717f-4ce0-a420-857b5c40b07f",
        "colab": {
          "base_uri": "https://localhost:8080/",
          "height": 347
        }
      },
      "cell_type": "code",
      "source": [
        "# 我们使用matplotlib去打印出它，可以将这些数值转换成为图片\n",
        "plt.figure()\n",
        "plt.imshow(train_images[10])\n",
        "plt.colorbar()\n",
        "plt.grid(False)"
      ],
      "execution_count": 0,
      "outputs": [
        {
          "output_type": "display_data",
          "data": {
            "image/png": "[encoded data removed]",
            "text/plain": [
              "<Figure size 576x396 with 2 Axes>"
            ]
          },
          "metadata": {
            "tags": []
          }
        }
      ]
    },
    {
      "metadata": {
        "id": "bnHNJkOlxvTa",
        "colab_type": "code",
        "colab": {}
      },
      "cell_type": "code",
      "source": [
        "# 我们需要将所有的数值转换成为0-1类型的值\n",
        "\n",
        "train_images = train_images / 255.0\n",
        "test_images = test_images / 255.0"
      ],
      "execution_count": 0,
      "outputs": []
    },
    {
      "metadata": {
        "id": "Szer46l-ypAN",
        "colab_type": "code",
        "colab": {}
      },
      "cell_type": "code",
      "source": [
        "# 现在开始构建模型，通常我们创建了模型，就相当于我们设计了一个智能机器人，然后之后的工作就是喂它吃数据\n",
        "\n",
        "model = keras.Sequential([\n",
        "    keras.layers.Flatten(input_shape=(28,28)),\n",
        "    keras.layers.Dense(128, activation=tf.nn.relu),\n",
        "    keras.layers.Dense(10, activation=tf.nn.softmax)\n",
        "])\n",
        "\n",
        "# 我们传入的单个样本是28*28的，Flatten作用就是将这个矩阵转换称为一位数组\n",
        "# Dense就是全连接层，暂时不做主要的了解，只需要了解28*28=784，784个数字\n",
        "# 进到keras.layers.Dense(128, activation=tf.nn.relu)之后出来就是\n",
        "# 128个数字，然后第接着最后出来就是10个数字，依次为class_names中每一类的\n",
        "# 可能性。"
      ],
      "execution_count": 0,
      "outputs": []
    },
    {
      "metadata": {
        "id": "QoZk-vAM20Ur",
        "colab_type": "text"
      },
      "cell_type": "markdown",
      "source": [
        "也就是说model这个小机器人，它吃一个28*28的数据之后可以拉出来一个10个数字，10个数字分别代表每一个类型的概率。"
      ]
    },
    {
      "metadata": {
        "id": "boXc9SRm3EM7",
        "colab_type": "code",
        "colab": {}
      },
      "cell_type": "code",
      "source": [
        "# 现在要进行编译模型，这个过程就是给它吃数据\n",
        "\n",
        "model.compile(optimizer=tf.train.AdamOptimizer(),\n",
        "              loss='sparse_categorical_crossentropy',\n",
        "              metrics=['accuracy'])\n",
        "\n",
        "# optimization为优化器\n",
        "# loss为损失函数\n",
        "# metrics为提取标准"
      ],
      "execution_count": 0,
      "outputs": []
    },
    {
      "metadata": {
        "id": "Ca6S0ufa5BJP",
        "colab_type": "code",
        "outputId": "d6ce25ed-b2f8-48fc-fca8-6d211c0ddcaa",
        "colab": {
          "base_uri": "https://localhost:8080/",
          "height": 210
        }
      },
      "cell_type": "code",
      "source": [
        "# 开始正式吃数据，epoch是用原有数据反复训练的次数，理解成羊吃草吧\n",
        "model.fit(train_images, train_labels, epochs=5)"
      ],
      "execution_count": 0,
      "outputs": [
        {
          "output_type": "stream",
          "text": [
            "Epoch 1/5\n",
            "60000/60000 [==============================] - 5s 90us/sample - loss: 0.2800 - acc: 0.8967\n",
            "Epoch 2/5\n",
            "60000/60000 [==============================] - 5s 86us/sample - loss: 0.2670 - acc: 0.9004\n",
            "Epoch 3/5\n",
            "60000/60000 [==============================] - 5s 86us/sample - loss: 0.2558 - acc: 0.9046\n",
            "Epoch 4/5\n",
            "60000/60000 [==============================] - 5s 89us/sample - loss: 0.2463 - acc: 0.9076\n",
            "Epoch 5/5\n",
            "60000/60000 [==============================] - 5s 86us/sample - loss: 0.2388 - acc: 0.9117\n"
          ],
          "name": "stdout"
        },
        {
          "output_type": "execute_result",
          "data": {
            "text/plain": [
              "<tensorflow.python.keras.callbacks.History at 0x7f36aaa44a58>"
            ]
          },
          "metadata": {
            "tags": []
          },
          "execution_count": 42
        }
      ]
    },
    {
      "metadata": {
        "id": "RJGlPVir5P69",
        "colab_type": "code",
        "outputId": "024a99b7-cc44-4c89-ea37-aaba3a9df02d",
        "colab": {
          "base_uri": "https://localhost:8080/",
          "height": 52
        }
      },
      "cell_type": "code",
      "source": [
        "test_loss, test_acc = model.evaluate(test_images, test_labels)\n",
        "\n",
        "print('Test accuracy:', test_acc)"
      ],
      "execution_count": 0,
      "outputs": [
        {
          "output_type": "stream",
          "text": [
            "10000/10000 [==============================] - 1s 51us/sample - loss: 0.3501 - acc: 0.8745\n",
            "Test accuracy: 0.8745\n"
          ],
          "name": "stdout"
        }
      ]
    },
    {
      "metadata": {
        "id": "_7k6U-PEG0IH",
        "colab_type": "text"
      },
      "cell_type": "markdown",
      "source": [
        "上面基本上就跑完了官方的教材了，涉及了几个知识点：\n",
        "1. 数据分割成训练集，测试集。\n",
        "2. 如果将图片显示出来。\n",
        "3. 像素点的大小。\n",
        "4. 创建简单的神经网络。\n",
        "5. Flatten与Dense的意义。\n",
        "6. 优化器。\n",
        "7. 损失函数。\n",
        "8. metrics。\n",
        "\n",
        "## 作业\n",
        "\n",
        "1. 自己从网上下载一个图片并用你创建好的神经网络去预测图片类型，比如你可以下载一张T恤的图片或者鞋子只要是在classname中的类型就可以，看看结果怎么样，如果结果不理想分析一下问题是什么？\n",
        "2. 将代码反复敲三遍，敲代码，不敲几遍怎么熟练呢。\n",
        "3. 为什么要分割成训练集与测试集。\n",
        "4. model.compile中metrics的意义是什么？\n",
        "\n",
        "## 第一问题的解答\n",
        "\n",
        "目前这一部分先不要，先自己动手解决作业的问题，基本上2-3个小时就可以自己动手解决。\n",
        "![](http://wx4.sinaimg.cn/mw600/007uWeI8ly1g1o4pg65jtj30g20g5dol.jpg)\n",
        "\n",
        "思路：\n",
        "1. 下载一个图片\n",
        "2. 用`Reference【4】在线图片工具`去改变图片的尺寸\n",
        "3. 找一个image转换成数组\n",
        "4. 丢到模型里面去\n"
      ]
    },
    {
      "metadata": {
        "id": "SKvud96P_grj",
        "colab_type": "code",
        "colab": {}
      },
      "cell_type": "code",
      "source": [
        "# 网上Copy的图片转数组\n",
        "\n",
        "def jpg_image_to_array(image_path):\n",
        "  \"\"\"\n",
        "  Loads JPEG image into 3D Numpy array of shape \n",
        "  (width, height, channels)\n",
        "  \"\"\"\n",
        "  with Image.open(image_path) as image:         \n",
        "    im_arr = np.fromstring(image.tobytes(), dtype=np.uint8)\n",
        "    im_arr = im_arr.reshape((image.size[1], image.size[0], 3))                                   \n",
        "  return im_arr\n",
        "\n",
        "# 网上Copy的rgb转灰度图\n",
        "# convert rgb (224,224,3 ) to gray (224,224) image\n",
        "def rgb2gray(rgb):\n",
        "        return np.dot(rgb[..., :3], [0.299, 0.587, 0.114]) #分别对应通道 R G B\n",
        "\n",
        "# 如果没做出来并看到这一步，作业再加三题\n",
        "# 什么是RGB，\n",
        "# 什么是灰度图\n",
        "# 读取RGB与读取灰度图有什么不同"
      ],
      "execution_count": 0,
      "outputs": []
    },
    {
      "metadata": {
        "id": "mjOxFYxi_8dt",
        "colab_type": "code",
        "outputId": "4f48c3ac-5ec9-4163-d875-fc47bc3cd1b6",
        "colab": {
          "base_uri": "https://localhost:8080/",
          "height": 107
        }
      },
      "cell_type": "code",
      "source": [
        "my_operator = Operation()\n",
        "  \n",
        "test_img = rgb2gray(jpg_image_to_array('333.jpeg'))\n",
        "print(test_img.shape)\n",
        "\n",
        "test_img = test_img / 255.0\n",
        "\n",
        "prediction = model.predict(test_img.reshape(1, 28, 28))\n",
        "\n",
        "print(class_names[np.argmax(prediction)])"
      ],
      "execution_count": 99,
      "outputs": [
        {
          "output_type": "stream",
          "text": [
            "(28, 28)\n",
            "包包\n"
          ],
          "name": "stdout"
        },
        {
          "output_type": "stream",
          "text": [
            "/usr/local/lib/python3.6/dist-packages/ipykernel_launcher.py:7: DeprecationWarning: The binary mode of fromstring is deprecated, as it behaves surprisingly on unicode inputs. Use frombuffer instead\n",
            "  import sys\n"
          ],
          "name": "stderr"
        }
      ]
    },
    {
      "metadata": {
        "id": "JfLCvZynsOB_",
        "colab_type": "text"
      },
      "cell_type": "markdown",
      "source": [
        "我用图片中用了一个T恤但是却被识别成了包包，然后我们这个时候就需要分析为什么，我在下面show了这张图片，于是我们发现这个T恤的整体颜色和上面训练的是不一样的。"
      ]
    },
    {
      "metadata": {
        "id": "enfssudmr2QY",
        "colab_type": "code",
        "colab": {
          "base_uri": "https://localhost:8080/",
          "height": 351
        },
        "outputId": "3604219f-5a42-4b68-b130-38d4d0a04694"
      },
      "cell_type": "code",
      "source": [
        "plt.figure()\n",
        "plt.imshow(test_img)\n",
        "plt.colorbar()\n",
        "plt.grid(False)"
      ],
      "execution_count": 100,
      "outputs": [
        {
          "output_type": "display_data",
          "data": {
            "image/png": "[encoded data removed]",
            "text/plain": [
              "<Figure size 576x396 with 2 Axes>"
            ]
          },
          "metadata": {
            "tags": []
          }
        }
      ]
    },
    {
      "metadata": {
        "id": "rZh29bbWsq5d",
        "colab_type": "text"
      },
      "cell_type": "markdown",
      "source": [
        "这里我用255-test_img将它的像素值倒转过来"
      ]
    },
    {
      "metadata": {
        "id": "_6ylNWZ6Eul4",
        "colab_type": "code",
        "colab": {
          "base_uri": "https://localhost:8080/",
          "height": 347
        },
        "outputId": "a9a91042-3a7b-4abd-f8d0-cf2d60a88d1b"
      },
      "cell_type": "code",
      "source": [
        "plt.figure()\n",
        "plt.imshow(255 - test_img)\n",
        "plt.colorbar()\n",
        "plt.grid(False)"
      ],
      "execution_count": 86,
      "outputs": [
        {
          "output_type": "display_data",
          "data": {
            "image/png": "[encoded data removed]",
            "text/plain": [
              "<Figure size 576x396 with 2 Axes>"
            ]
          },
          "metadata": {
            "tags": []
          }
        }
      ]
    },
    {
      "metadata": {
        "id": "sFhyuq_2Et11",
        "colab_type": "code",
        "colab": {
          "base_uri": "https://localhost:8080/",
          "height": 107
        },
        "outputId": "7f73a1aa-2b69-4fe0-ea37-ecae67cdc70f"
      },
      "cell_type": "code",
      "source": [
        "my_operator = Operation()\n",
        "  \n",
        "test_img = rgb2gray(jpg_image_to_array('333.jpeg'))\n",
        "print(test_img.shape)\n",
        "\n",
        "test_img = (255 - test_img) / 255.0\n",
        "\n",
        "prediction = model.predict(test_img.reshape(1, 28, 28))\n",
        "prediction_index = np.argmax(prediction)\n",
        "print(('预测结果：%s，%d%%') %(class_names[prediction_index], prediction[0][prediction_index] * 100))"
      ],
      "execution_count": 95,
      "outputs": [
        {
          "output_type": "stream",
          "text": [
            "(28, 28)\n",
            "预测结果：上衣/T恤，48%\n"
          ],
          "name": "stdout"
        },
        {
          "output_type": "stream",
          "text": [
            "/usr/local/lib/python3.6/dist-packages/ipykernel_launcher.py:7: DeprecationWarning: The binary mode of fromstring is deprecated, as it behaves surprisingly on unicode inputs. Use frombuffer instead\n",
            "  import sys\n"
          ],
          "name": "stderr"
        }
      ]
    },
    {
      "metadata": {
        "id": "DsHmNJBq-du-",
        "colab_type": "text"
      },
      "cell_type": "markdown",
      "source": [
        "到此为止，识别正确，OK结束。\n",
        "\n",
        "## Reference\n",
        "\n",
        "1. [tensorflow官方教程](https://www.tensorflow.org/tutorials/keras/basic_classification)\n",
        "2. [jpg_image_to_array方法来自stackOverflow](https://stackoverflow.com/questions/13550376/pil-image-to-array-numpy-array-to-array-python)\n",
        "3. [rgb2gray方法](https://blog.csdn.net/WJ_MeiMei/article/details/86616565)\n",
        "4. [在线改变图片尺寸](https://www.yasuotu.com/size)\n"
      ]
    },
    {
      "metadata": {
        "id": "P8xb0anEsNFS",
        "colab_type": "text"
      },
      "cell_type": "markdown",
      "source": [
        ""
      ]
    }
  ]
}