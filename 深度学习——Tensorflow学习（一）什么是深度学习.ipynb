{
  "nbformat": 4,
  "nbformat_minor": 0,
  "metadata": {
    "colab": {
      "name": "深度学习——Tensorflow学习（一）什么是深度学习.ipynb",
      "version": "0.3.2",
      "provenance": [],
      "collapsed_sections": [],
      "include_colab_link": true
    },
    "kernelspec": {
      "name": "python3",
      "display_name": "Python 3"
    }
  },
  "cells": [
    {
      "cell_type": "markdown",
      "metadata": {
        "id": "view-in-github",
        "colab_type": "text"
      },
      "source": [
        "<a href=\"https://colab.research.google.com/github/JavanTang/Learn-a-little-tensorflow-every-day/blob/master/%E6%B7%B1%E5%BA%A6%E5%AD%A6%E4%B9%A0%E2%80%94%E2%80%94Tensorflow%E5%AD%A6%E4%B9%A0%EF%BC%88%E4%B8%80%EF%BC%89%E4%BB%80%E4%B9%88%E6%98%AF%E6%B7%B1%E5%BA%A6%E5%AD%A6%E4%B9%A0.ipynb\" target=\"_parent\"><img src=\"https://colab.research.google.com/assets/colab-badge.svg\" alt=\"Open In Colab\"/></a>"
      ]
    },
    {
      "metadata": {
        "id": "qfoI_OaAF-2T",
        "colab_type": "text"
      },
      "cell_type": "markdown",
      "source": [
        "# 什么是深度学习\n",
        "\n",
        "直接看这知乎这个回答，比无数博客都写的好。\n",
        "https://www.zhihu.com/question/22553761\n",
        "\n",
        "# 作业\n",
        "\n",
        "简单的神经网络与y=wx+b的区别？\n",
        "\n",
        "简单的在本子上面画一个神经网络图。\n",
        "\n",
        "什么叫数据集？\n",
        "\n",
        "说说什么是深度学习？\n",
        "\n",
        "# Reference\n",
        "\n",
        "1. https://www.zhihu.com/question/22553761\n"
      ]
    },
    {
      "metadata": {
        "id": "wuvnS-lYHW-u",
        "colab_type": "code",
        "colab": {}
      },
      "cell_type": "code",
      "source": [
        ""
      ],
      "execution_count": 0,
      "outputs": []
    }
  ]
}